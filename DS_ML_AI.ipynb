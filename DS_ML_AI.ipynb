{
  "cells": [
    {
      "cell_type": "markdown",
      "metadata": {
        "id": "view-in-github",
        "colab_type": "text"
      },
      "source": [
        "<a href=\"https://colab.research.google.com/github/pedd1-Srividya/DS-ML-Practice/blob/master/DS_ML_AI.ipynb\" target=\"_parent\"><img src=\"https://colab.research.google.com/assets/colab-badge.svg\" alt=\"Open In Colab\"/></a>"
      ]
    },
    {
      "cell_type": "markdown",
      "metadata": {
        "id": "COZZHnmn7zwh"
      },
      "source": [
        "#Basics of Python"
      ]
    },
    {
      "cell_type": "code",
      "execution_count": null,
      "metadata": {
        "colab": {
          "base_uri": "https://localhost:8080/",
          "height": 36
        },
        "id": "XCzWqsB74ye0",
        "outputId": "c5fc209b-b645-4924-c493-deb1b3405da9"
      },
      "outputs": [
        {
          "data": {
            "application/vnd.google.colaboratory.intrinsic+json": {
              "type": "string"
            },
            "text/plain": [
              "'\\nMultiline comment\\nPython is a case sensitive language\\n'"
            ]
          },
          "execution_count": 7,
          "metadata": {},
          "output_type": "execute_result"
        }
      ],
      "source": [
        "#comments\n",
        "a=2\n",
        "b=3\n",
        "c=a+b #c is a variable and value of a and b has been added\n",
        "'''\n",
        "Multiline comment\n",
        "Python is a case sensitive language\n",
        "'''"
      ]
    },
    {
      "cell_type": "code",
      "execution_count": null,
      "metadata": {
        "colab": {
          "base_uri": "https://localhost:8080/"
        },
        "id": "A90J93JY9b8C",
        "outputId": "9ca7e9ca-460f-44bf-bb86-4679da737ad3"
      },
      "outputs": [
        {
          "name": "stdout",
          "output_type": "stream",
          "text": [
            "30\n"
          ]
        }
      ],
      "source": [
        "#title print function\n",
        "#syntax for print function\n",
        "a=10\n",
        "b=20\n",
        "sum=a+b\n",
        "print(sum)#valid synatx"
      ]
    },
    {
      "cell_type": "code",
      "execution_count": null,
      "metadata": {
        "colab": {
          "base_uri": "https://localhost:8080/"
        },
        "id": "9i-ebp9C-bgo",
        "outputId": "6847b491-58eb-4d37-ad2e-03d3de84bf42"
      },
      "outputs": [
        {
          "name": "stdout",
          "output_type": "stream",
          "text": [
            "Hello World\n"
          ]
        }
      ],
      "source": [
        "#printing hello world\n",
        "print(\"Hello World\")"
      ]
    },
    {
      "cell_type": "code",
      "execution_count": null,
      "metadata": {
        "colab": {
          "base_uri": "https://localhost:8080/"
        },
        "id": "7pfKqqLv-yc_",
        "outputId": "d7d7c373-f5a4-4be9-8dfb-33e6157442dd"
      },
      "outputs": [
        {
          "name": "stdout",
          "output_type": "stream",
          "text": [
            "Hello World How r u?\n",
            "rinex@gmail.com\n"
          ]
        }
      ],
      "source": [
        "# There are two parameters in print function\n",
        "'''\n",
        "1) end parameter\n",
        "2) separated parameter\n",
        "'''\n",
        "# Print both statments in a single line\n",
        "print('Hello World', end=' ')#Default value of end is '\\n' (new line)\n",
        "print('How r u?')\n",
        "#separate two statements with @\n",
        "print('rinex','gmail.com',sep='@')#Default value of sep is' '(space)"
      ]
    },
    {
      "cell_type": "code",
      "execution_count": null,
      "metadata": {
        "colab": {
          "base_uri": "https://localhost:8080/",
          "height": 122
        },
        "id": "TZxgK0wQBTv_",
        "outputId": "694732f3-1215-470a-ce88-408702f5a978"
      },
      "outputs": [
        {
          "name": "stdout",
          "output_type": "stream",
          "text": [
            "10\n",
            "Hello World\n"
          ]
        },
        {
          "data": {
            "application/vnd.google.colaboratory.intrinsic+json": {
              "type": "string"
            },
            "text/plain": [
              "'\\nRules to write a variable\\n1) You cannot start the variable name with a anumber but you continue with it.\\nEx: 1a - Invalid, a1- Valid\\n2) We cannot use keyboards as variable name.\\nEx: print = 10(Invalid)\\n3) case sensitive\\nex:\\na=10\\nprint(A)# Invalid syntax\\na=10\\nprint(a)# Valid syntax\\n'"
            ]
          },
          "execution_count": 6,
          "metadata": {},
          "output_type": "execute_result"
        }
      ],
      "source": [
        "#Anything that can store any value in programming language is termed as variable\n",
        "a=10# Here a is a variable\n",
        "message='Hello World' # Here message is a variable\n",
        "print(a)\n",
        "print(message)\n",
        "'''\n",
        "Rules to write a variable\n",
        "1) You cannot start the variable name with a anumber but you continue with it.\n",
        "Ex: 1a - Invalid, a1- Valid\n",
        "2) We cannot use keyboards as variable name.\n",
        "Ex: print = 10(Invalid)\n",
        "3) case sensitive\n",
        "ex:\n",
        "a=10\n",
        "print(A)# Invalid syntax\n",
        "a=10\n",
        "print(a)# Valid syntax\n",
        "'''"
      ]
    },
    {
      "cell_type": "markdown",
      "metadata": {
        "id": "xaiC8rdDFjTy"
      },
      "source": [
        "# Basic Operators in python\n",
        "1.Arthimetic Operators\n",
        "\n",
        "2.Comparision Operators\n",
        "\n",
        "3.Logical Operators\n",
        "\n",
        "4.Assignment operators"
      ]
    },
    {
      "cell_type": "code",
      "execution_count": null,
      "metadata": {
        "colab": {
          "base_uri": "https://localhost:8080/"
        },
        "id": "yg4gcoUMFs8H",
        "outputId": "83007715-af59-43ca-925a-0b4fe376558c"
      },
      "outputs": [
        {
          "name": "stdout",
          "output_type": "stream",
          "text": [
            "sum is 15\n",
            "Difference is 5\n",
            "Quotient is 2.0\n",
            "Product is 50\n",
            "Remainder is 0\n",
            "Floor division is 2\n",
            "Exponent is 100000\n"
          ]
        }
      ],
      "source": [
        "# @title Arthimetic Operators\n",
        "'''\n",
        "1) Addition(+)\n",
        "2) Subtraction(-)\n",
        "3) Division(/)\n",
        "4) multiplication(*)\n",
        "5) Modulus (Remainder)(%)\n",
        "6) Floor Division(//)\n",
        "7) Exponent(**)\n",
        "'''\n",
        "a=10\n",
        "b=5\n",
        "sum=a+b\n",
        "print(\"sum is\",sum)\n",
        "diff=a-b\n",
        "print(\"Difference is\",diff)\n",
        "qnt=a/b\n",
        "print(\"Quotient is\",qnt)\n",
        "prod=a*b\n",
        "print(\"Product is\",prod)\n",
        "mod=a%b\n",
        "print(\"Remainder is\",mod)\n",
        "floor=a//b\n",
        "print(\"Floor division is\",floor)\n",
        "exp=a**b\n",
        "print(\"Exponent is\",exp)\n"
      ]
    },
    {
      "cell_type": "code",
      "execution_count": null,
      "metadata": {
        "colab": {
          "base_uri": "https://localhost:8080/"
        },
        "id": "bskkgB3fJ5Wg",
        "outputId": "19aa1003-a55c-43a8-c7b5-13105f072441"
      },
      "outputs": [
        {
          "name": "stdout",
          "output_type": "stream",
          "text": [
            "False\n",
            "True\n",
            "True\n",
            "True\n",
            "False\n",
            "False\n"
          ]
        }
      ],
      "source": [
        "# @title Comparision Operators\n",
        "'''\n",
        "1) Equal to(==)\n",
        "2) Not Equal(!=)\n",
        "3) Greater than(>)\n",
        "4) Greater than or equal to(>=)\n",
        "5) Lesser than(<)\n",
        "6) Lesser than or equal to(<=)\n",
        "'''\n",
        "a=10\n",
        "b=5\n",
        "print(a==b)\n",
        "print(a!=b)\n",
        "print(a>b)\n",
        "print(a>=b)\n",
        "print(a<b)\n",
        "print(a<=b)\n"
      ]
    },
    {
      "cell_type": "markdown",
      "metadata": {
        "id": "Ccot5Uw4DkkP"
      },
      "source": [
        "# Logical Operators"
      ]
    },
    {
      "cell_type": "code",
      "execution_count": null,
      "metadata": {
        "colab": {
          "background_save": true
        },
        "id": "MG7keav-DEWe",
        "outputId": "06b02de5-ef94-471e-f890-1b10b4faee08"
      },
      "outputs": [
        {
          "name": "stdout",
          "output_type": "stream",
          "text": [
            "True\n"
          ]
        }
      ],
      "source": [
        "# @title Logical Operators\n",
        "'''\n",
        "1) Logical AND(and)\n",
        "2) Logical OR(or)\n",
        "3) Logical NOT(not)\n",
        "'''\n",
        "#Get only the number greater than 5 and less than 10\n",
        "num=int(input(\"Enter the number\"))\n",
        "cond=(num>5) and (num<10)\n",
        "print(cond)"
      ]
    },
    {
      "cell_type": "markdown",
      "source": [
        "# CONDITIONAL OPERATORS\n",
        "1.IF statement\n",
        "\n",
        "2.IF ELSE statement\n",
        "\n",
        "3.IF ELIF ELSE statement"
      ],
      "metadata": {
        "id": "w9amD-KzMAEV"
      }
    },
    {
      "cell_type": "code",
      "source": [
        "# @title syntax\n",
        "if condition:\n",
        "  statements\n",
        "elif condition:\n",
        "  statements\n",
        "  ..\n",
        "  ..\n",
        "  ..\n",
        "  ..\n",
        "else:\n",
        "  statements"
      ],
      "metadata": {
        "id": "2bmRh48mL_RI"
      },
      "execution_count": null,
      "outputs": []
    },
    {
      "cell_type": "code",
      "source": [
        "# @title Example1\n",
        "#check if the number is greater than 0 or not\n",
        "num=int(input(\"Enter a number\"))\n",
        "if num>0:\n",
        "  print(\"number is greater than 0\")\n",
        "else:\n",
        "  print(\"number is not greater than 0\")\n"
      ],
      "metadata": {
        "colab": {
          "base_uri": "https://localhost:8080/"
        },
        "id": "hQEZ5RXKMHmM",
        "outputId": "c6212069-5281-4fe1-e5e8-5193d630f55b"
      },
      "execution_count": null,
      "outputs": [
        {
          "output_type": "stream",
          "name": "stdout",
          "text": [
            "Enter a number5\n",
            "number is greater than 0\n"
          ]
        }
      ]
    },
    {
      "cell_type": "code",
      "source": [
        "# @title Example2\n",
        "#check if the number is +ve or -ve\n",
        "num=int(input(\"Enter a number\"))\n",
        "if num>0:\n",
        "  print(\"number is +ve\")\n",
        "elif num==0:\n",
        "  print(\"number is 0\")\n",
        "else:\n",
        "  print(\"number is -ve\")\n"
      ],
      "metadata": {
        "colab": {
          "base_uri": "https://localhost:8080/"
        },
        "id": "Nz9ol_HGMMjn",
        "outputId": "a9ec742b-85bc-4a4b-f9f9-bbf26536c3b6"
      },
      "execution_count": null,
      "outputs": [
        {
          "output_type": "stream",
          "name": "stdout",
          "text": [
            "Enter a number2\n",
            "number is +ve\n"
          ]
        }
      ]
    },
    {
      "cell_type": "code",
      "source": [
        "# @title Example3\n",
        "#check if you are admin, then you have admin privilege else you have no access\n",
        "username=input(\"Enter username\")\n",
        "admin_username='admin@321'\n",
        "if username==admin_username:\n",
        "  print(\"Welcome admin kindly enter your password\")\n",
        "  password=input(\"Enter password\")\n",
        "  admin_password='pass@321'\n",
        "  if password==admin_password:\n",
        "    print(\"Welcome admin, You have admin priviledge\")\n",
        "  else:\n",
        "    print(\"Invalid password\")\n",
        "else:\n",
        "  print(\"invalid username\")"
      ],
      "metadata": {
        "colab": {
          "base_uri": "https://localhost:8080/"
        },
        "id": "hv9YBP4zMQW7",
        "outputId": "349f115c-5dca-470b-b7a1-63ddc03d19a3"
      },
      "execution_count": null,
      "outputs": [
        {
          "output_type": "stream",
          "name": "stdout",
          "text": [
            "Enter usernameadmin@321\n",
            "Welcome admin kindly enter your password\n",
            "Enter passwordpass@321\n",
            "Welcome admin, You have admin priviledge\n"
          ]
        }
      ]
    },
    {
      "cell_type": "code",
      "source": [
        "# @title Example4\n",
        "#check if you user is eligible to vote (age >=18 )\n",
        "age=int(input(\"Enter your age\"))\n",
        "if age>=18:\n",
        "  print(\"user is Eligible to vote\")\n",
        "else:\n",
        "  a=18-age\n",
        "  print(\"User is not eligible to vote wait for\",a,\"years\")\n"
      ],
      "metadata": {
        "colab": {
          "base_uri": "https://localhost:8080/"
        },
        "id": "oNctFuI-MUNM",
        "outputId": "49fe5fb1-ecd9-4340-9f1b-b7b39914eee1"
      },
      "execution_count": null,
      "outputs": [
        {
          "output_type": "stream",
          "name": "stdout",
          "text": [
            "Enter your age15\n",
            "User is not eligible to vote wait for 3 years\n"
          ]
        }
      ]
    },
    {
      "cell_type": "code",
      "source": [
        "# @title Example5\n",
        "# check whether the given number is even or odd\n",
        "num=int(input(\"Enter a number\"))\n",
        "if num%2==0:\n",
        "  print(\"Number is even\")\n",
        "else:\n",
        "  print(\"Number is odd\")"
      ],
      "metadata": {
        "colab": {
          "base_uri": "https://localhost:8080/"
        },
        "id": "RmyGKBBaM67M",
        "outputId": "7ea2fd80-bfbb-4039-95eb-4355165504a8"
      },
      "execution_count": null,
      "outputs": [
        {
          "output_type": "stream",
          "name": "stdout",
          "text": [
            "Enter a number5\n",
            "Number is odd\n"
          ]
        }
      ]
    },
    {
      "cell_type": "code",
      "source": [
        "# @title Example6\n",
        "#Check if the number is Factor of 7\n",
        "num=int(input(\"Enter a number\"))\n",
        "if num%7==0:\n",
        "  print(\"Number is factor of 7\")\n",
        "else:\n",
        "  print(\"Number is not a factor of 7\")"
      ],
      "metadata": {
        "colab": {
          "base_uri": "https://localhost:8080/"
        },
        "id": "zjb7dXEDl0Nb",
        "outputId": "ba21580f-828b-4a03-887e-0c0f9816e151"
      },
      "execution_count": null,
      "outputs": [
        {
          "output_type": "stream",
          "name": "stdout",
          "text": [
            "Enter a number15\n",
            "Number is not a factor of 7\n"
          ]
        }
      ]
    },
    {
      "cell_type": "code",
      "source": [
        "# @title Excercise1\n",
        "#If the employee is working in the company for more than 5 years then he/she will get bonus of 50% to their current salary\n",
        "work_experience=int(input(\"Enter your work experience\"))\n",
        "if work_experience>5:\n",
        "  salary=float(input(\"Enter your current salary\"))\n",
        "  bonus=salary*0.5\n",
        "  print(\"Your work experience is greater than 5 years so ur salary with bonus is:\",salary+bonus)\n",
        "else:\n",
        "  print(\"No bonus\")"
      ],
      "metadata": {
        "colab": {
          "base_uri": "https://localhost:8080/"
        },
        "id": "j7A6011coIUB",
        "outputId": "a45478e6-de51-485c-af16-c297dad19c7b"
      },
      "execution_count": null,
      "outputs": [
        {
          "output_type": "stream",
          "name": "stdout",
          "text": [
            "Enter your work experience4\n",
            "No bonus\n"
          ]
        }
      ]
    },
    {
      "cell_type": "code",
      "source": [
        "# @title Excercise2\n",
        "#If the electricity units is less than 100 then no charge, else if the electricity unit is greater than 100 and lesser than\n",
        "#200 then Rs.10 per unit. If the units is greater than 200 then Rs. 15 per unit\n",
        "units=float(input(\"Enter the Electricity units\"))\n",
        "if units<=100:\n",
        "  print(\"No Charge\")\n",
        "elif units>100 and units<=200:\n",
        "  charge=(units-100)*10\n",
        "  print(\"Electricity charge:\",charge)\n",
        "elif units>200:\n",
        "  charge=1000+(units-200)*15\n",
        "  print(\"Electricity charge:\",charge)\n"
      ],
      "metadata": {
        "colab": {
          "base_uri": "https://localhost:8080/"
        },
        "id": "OTVL_RCep5Q3",
        "outputId": "6f63234e-4459-46c6-c584-71e3dc1bf77d"
      },
      "execution_count": null,
      "outputs": [
        {
          "output_type": "stream",
          "name": "stdout",
          "text": [
            "Enter the Electricity units201\n",
            "Electricity charge: 1015.0\n"
          ]
        }
      ]
    },
    {
      "cell_type": "code",
      "source": [
        "# @title Excercise3\n",
        "# BMI Caluculator\n",
        "# BMI=(Weight(KG))/(Height(M)**2)\n",
        "# BMI <18.5 then Underweight\n",
        "# BMI between 18.5 and 24.9 then normal weight\n",
        "# BMI between 24.9 and 29.9 then overweight\n",
        "# BMI >29.9 obese\n",
        "height_m=float(input(\"Enter the height in meters\"))\n",
        "weight_kg=float(input(\"Enter the weight in kg\"))\n",
        "BMI=weight_kg/(height_m**2)\n",
        "if BMI<18.5:\n",
        "  print(f\"Your BMI is {BMI} Underweight\")\n",
        "elif BMI>=18.5 and BMI<24.9:\n",
        "  print(f\"Your BMI is {BMI} NormalWeight\")\n",
        "elif BMI>=24.9 and BMI<29.9:\n",
        "  print(f\"Your BMI is {BMI} Overweight\")\n",
        "else:\n",
        "  print(f\"Your BMI is {BMI} obese\")"
      ],
      "metadata": {
        "colab": {
          "base_uri": "https://localhost:8080/"
        },
        "id": "b023HvSAyzfN",
        "outputId": "bb696da0-ffc7-46e9-ba25-40d23d0f9105"
      },
      "execution_count": null,
      "outputs": [
        {
          "output_type": "stream",
          "name": "stdout",
          "text": [
            "Enter the height in meters1.61\n",
            "Enter the weight in kg64\n",
            "Your BMI is 24.690405462752206 NormalWeight\n"
          ]
        }
      ]
    },
    {
      "cell_type": "code",
      "source": [
        "# @title Excercise4\n",
        "#Find whether the character is a vowel or a consonant\n",
        "char=input(\"Enter any letter\")\n",
        "char_lower=char.lower()\n",
        "vowel=['a','e','i','o','u']\n",
        "if char_lower in vowel:\n",
        "  print(\"The letter is vowel\")\n",
        "else:\n",
        "  print(\"The letter is consonant\")"
      ],
      "metadata": {
        "colab": {
          "base_uri": "https://localhost:8080/"
        },
        "id": "Zq9BVZ4Y2CSh",
        "outputId": "819d5591-f2ae-41fc-bdf5-04790f8964e6"
      },
      "execution_count": null,
      "outputs": [
        {
          "output_type": "stream",
          "name": "stdout",
          "text": [
            "Enter any letterA\n",
            "The letter is vowel\n"
          ]
        }
      ]
    },
    {
      "cell_type": "markdown",
      "source": [
        "# Datatype\n",
        "1) Boolean\n",
        "2) Number(int/float)\n",
        "3) String\n",
        "4) List\n",
        "5) Dictionary"
      ],
      "metadata": {
        "id": "ZwVhguIMhOOR"
      }
    },
    {
      "cell_type": "code",
      "source": [
        "# @title Boolean\n",
        "a=True\n",
        "b=False\n",
        "print(type(a))"
      ],
      "metadata": {
        "colab": {
          "base_uri": "https://localhost:8080/"
        },
        "id": "ISWOQaychXVA",
        "outputId": "b29b32b9-2e87-4283-e0c7-dc9ee24e1843"
      },
      "execution_count": 1,
      "outputs": [
        {
          "output_type": "stream",
          "name": "stdout",
          "text": [
            "<class 'bool'>\n"
          ]
        }
      ]
    },
    {
      "cell_type": "code",
      "source": [
        "# @title Number\n",
        "a=1\n",
        "b=1.1\n",
        "print(type(a))\n",
        "print(type(b))"
      ],
      "metadata": {
        "colab": {
          "base_uri": "https://localhost:8080/"
        },
        "id": "OJOU9Y9Jk3BE",
        "outputId": "0db760e0-f9bf-426e-df24-18a4144baa98"
      },
      "execution_count": 2,
      "outputs": [
        {
          "output_type": "stream",
          "name": "stdout",
          "text": [
            "<class 'int'>\n",
            "<class 'float'>\n"
          ]
        }
      ]
    },
    {
      "cell_type": "code",
      "source": [
        "# @title String\n",
        "a='Hello world'\n",
        "print(type(a))\n",
        "print(a[0])\n",
        "print(a[-1])\n",
        "print(a[0:5])\n",
        "print(a[6:])"
      ],
      "metadata": {
        "colab": {
          "base_uri": "https://localhost:8080/"
        },
        "id": "oy2pgJUFlE7p",
        "outputId": "2567ece4-e5dc-4a25-b137-039049a1386c"
      },
      "execution_count": 3,
      "outputs": [
        {
          "output_type": "stream",
          "name": "stdout",
          "text": [
            "<class 'str'>\n",
            "H\n",
            "d\n",
            "Hello\n",
            "world\n"
          ]
        }
      ]
    },
    {
      "cell_type": "code",
      "source": [
        "# @title Functions in String\n",
        "a='My Name is abc'\n",
        "print(a.lower())\n",
        "print(a.upper())\n",
        "print(len(a))\n",
        "print(a.replace('abc','xyz'))"
      ],
      "metadata": {
        "colab": {
          "base_uri": "https://localhost:8080/"
        },
        "id": "MMsPy9j2liFI",
        "outputId": "ef670b9a-3b1c-4537-bfcc-b2a844ffe86e"
      },
      "execution_count": 4,
      "outputs": [
        {
          "output_type": "stream",
          "name": "stdout",
          "text": [
            "my name is abc\n",
            "MY NAME IS ABC\n",
            "14\n",
            "My Name is xyz\n"
          ]
        }
      ]
    },
    {
      "cell_type": "code",
      "source": [
        "# @title Lists\n",
        "emp_name=['sam','John','Ram','Adam']\n",
        "print(emp_name)\n",
        "print(emp_name[0])\n",
        "print(emp_name[-1])\n",
        "print(emp_name[1:3])"
      ],
      "metadata": {
        "colab": {
          "base_uri": "https://localhost:8080/"
        },
        "id": "sFO5LxJhobP9",
        "outputId": "3812ed33-d2d5-4428-ef16-c2c949fec6d2"
      },
      "execution_count": 5,
      "outputs": [
        {
          "output_type": "stream",
          "name": "stdout",
          "text": [
            "['sam', 'John', 'Ram', 'Adam']\n",
            "sam\n",
            "Adam\n",
            "['John', 'Ram']\n"
          ]
        }
      ]
    },
    {
      "cell_type": "code",
      "source": [
        "# @title Dictionary: Key-value Pairs\n",
        "employees=['adam','28','john','30','ram','28']\n",
        "print(employees[3])\n",
        "employees_list={'adam':28,'jhon':30,'ram':28}\n",
        "print(employees_list['adam'])\n",
        "print(employees_list.keys())\n",
        "print(employees_list.values())\n",
        "print(employees_list.items())\n",
        "\n"
      ],
      "metadata": {
        "colab": {
          "base_uri": "https://localhost:8080/"
        },
        "id": "w5mytb_apo3N",
        "outputId": "795fa62b-4ee3-4a74-ec07-a73d536366f5"
      },
      "execution_count": 16,
      "outputs": [
        {
          "output_type": "stream",
          "name": "stdout",
          "text": [
            "30\n",
            "28\n",
            "dict_keys(['adam', 'jhon', 'ram'])\n",
            "dict_values([28, 30, 28])\n",
            "dict_items([('adam', 28), ('jhon', 30), ('ram', 28)])\n"
          ]
        }
      ]
    },
    {
      "cell_type": "code",
      "source": [
        "# @title Exercise\n",
        "#User Authentication\n",
        "database={\n",
        "            'user1':'pass@123',\n",
        "            'user2':'pass@456',\n",
        "            'user3':'pass@789'\n",
        "\n",
        "          }\n",
        "username=input(\"Enter the username\")\n",
        "if username in database.keys():\n",
        "  password=input(\"Enter the password\")\n",
        "  if password in database[username]:\n",
        "    print(\"Welcome\", username)\n",
        "  else:\n",
        "    print(\"Invalid password\")\n",
        "else:\n",
        "  print(\"Invalid username\")"
      ],
      "metadata": {
        "colab": {
          "base_uri": "https://localhost:8080/"
        },
        "id": "QhqebErjvXp9",
        "outputId": "9c789845-51b6-4557-ca98-a4f0705af3df"
      },
      "execution_count": 22,
      "outputs": [
        {
          "output_type": "stream",
          "name": "stdout",
          "text": [
            "Enter the usernameuser1\n",
            "Enter the passwordpass@123\n",
            "Welcome user1\n"
          ]
        }
      ]
    }
  ],
  "metadata": {
    "colab": {
      "provenance": [],
      "authorship_tag": "ABX9TyO8JSX6pl9x15/pYRyxc6oD",
      "include_colab_link": true
    },
    "kernelspec": {
      "display_name": "Python 3",
      "name": "python3"
    },
    "language_info": {
      "name": "python"
    }
  },
  "nbformat": 4,
  "nbformat_minor": 0
}